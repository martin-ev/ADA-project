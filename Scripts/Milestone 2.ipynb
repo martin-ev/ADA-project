{
 "cells": [
  {
   "cell_type": "markdown",
   "metadata": {},
   "source": [
    "# Who feeds the world ? And how wealthy are they ?"
   ]
  },
  {
   "cell_type": "markdown",
   "metadata": {},
   "source": [
    "## Abstract <a name=\"abstract\"></a>\n",
    "\n",
    "Our main goal in this project is to find social and economic world-wide relations of countries based on the state of their agricultural sector, using indicators such as imports, exports, production, self-sufficiency, etc. In order to find such indicators, we would like to use the data from the \"Global Food & Agriculture Statistics\" datasets. First, we would like to produce a map showing which countries \"feed the world\" i.e. which countries are net-exporting food. That map would contain a slider to show how this evolved over the past fifty years. Then we would like to show countrywise the level of food self-sufficiency i.e. the way a country does not need to trade with other ones in order to feed its population. We will also compare it to nations' economic development and see if some correlations can be found. We will visualize our best findings with several interactive maps and plots."
   ]
  },
  {
   "cell_type": "markdown",
   "metadata": {},
   "source": [
    "## Research questions <a name=\"abstract2\"></a>\n",
    "\n",
    "We would like to work on the following research questions:\n",
    "\n",
    "- How does the production and consumption of food look like from a geographical point of view ? Which countries are net food exporters or importers? How did this evolve over the last few decades ?\n",
    "- What's the level of self-sufficiency in food production of individual countries and how does this change over time ?\n",
    "- Is there a link between the GDP per capita and the agricultural trade balance ? Are countries that are net exporters or importers richer ? Are self-sufficient countries richer ?\n",
    "- If we find any relations, are they also still valid if we check for specific crops ? Are there some crops that are mostly produced by richer countries, some that are mostly produced by poorer countries?\n"
   ]
  },
  {
   "cell_type": "markdown",
   "metadata": {},
   "source": [
    "# Table of contents <a name=\"toc\"></a>\n",
    "\n",
    "\n",
    "[Abstract](#abstract)\n",
    "\n",
    "[Research questions](#abstract2) \n",
    "\n",
    "[Table of contents](#toc)\n",
    "\n",
    "1. [Data cleansing and preprocessing](#1)\n",
    "\n",
    "    1. [Dataset description](#1A)   \n",
    "    \n",
    "    2. [Loading the data set](#1B)\n",
    "    \n",
    "    3. [Understanding the data set](#1C)\n",
    "    \n",
    "    4. [Cleansing the data set](#1D)\n",
    "    \n",
    "        1. [Removing unusefull data](#1Da)\n",
    "        \n",
    "        2. [Handling of the missing data](#1Db)\n",
    "        \n",
    "        3. [Correcting inconsistent data entries](#1Dc)\n",
    "        \n",
    "    5. [Preprocessing the data set](#1E)\n",
    "    \n",
    "        1. [Converting country names between different naming conventions](#1Ea)\n",
    "        \n",
    "        2. [Normalization and log scales](#1Eb)\n",
    "        \n",
    "2. [Data exploration and first observations](#2)\n",
    "        \n",
    "    1. [Food productions, importations and exportations](#2A)\n",
    "    \n",
    "        1. [Crops and livestock production and trade](#2Aa)  \n",
    "    \n",
    "            1. [Crops](#2Aai)\n",
    "            \n",
    "                1. [Production](#2Aai1)\n",
    "                \n",
    "                2. [Importation](#2Aai2)\n",
    "                \n",
    "                3. [Exportation](#2Aai3)\n",
    "    \n",
    "            2. [Livestock](#2Aaii)  \n",
    "            \n",
    "                1. [Production](#2Aai1)\n",
    "                \n",
    "                2. [Importation](#2Aai2)\n",
    "                \n",
    "                3. [Exportation](#2Aai3)\n",
    "    \n",
    "            2. [Globally](#2Aaiii)             \n",
    "    \n",
    "        2. [Introducing the concept of food self-sufficiency](#2Ab)\n",
    "    \n",
    "            1. [Basic idea](#2Abi)\n",
    "    \n",
    "            2. [Formula and computation](#2Abii)\n",
    "            \n",
    "    2. [Prices of food](#2B)\n",
    "    \n",
    "        1. [Prices](#2Ba) \n",
    "    \n",
    "        2. [Stability of prices](#2Bb)      \n",
    "                \n",
    "    3. [Structure of international trade](#2C)\n",
    "    \n",
    "        1. [One word about historical context](#2Ca) \n",
    "    \n",
    "        2. [Clusters, circularity and openness rates of international trade](#2Cb)         \n",
    "        \n",
    "    4. [Economic classification of countries](#2D)    \n",
    "        \n",
    "3. [Descriptive data analysis](#3)\n",
    "\n",
    "    1. [Production and consumption of food from a time-space geography point of view](#3A)\n",
    "        \n",
    "        1. [Net food exporters or importers](#3Aa)\n",
    "        \n",
    "        2. [Evolution over the last few decades](#3Ab)\n",
    "\n",
    "    1. [Food self-sufficiency](#3B)\n",
    "\n",
    "    2. [Giving countries an economic score based on their agricultural features](#3C)\n",
    "        \n",
    "        1. [Correlation between food trade feature and GDP](#3Ca)\n",
    "        \n",
    "        2. [Our own score](#3Cb)\n",
    "        \n",
    "        2. [Machine learning model](#3Cc)  \n",
    "\n",
    "    3. [Food prices stability and agricultural features](#3C)      \n",
    "\n",
    "4. [Informed plan for next actions](#4)"
   ]
  },
  {
   "cell_type": "markdown",
   "metadata": {},
   "source": [
    "**External imports:**"
   ]
  },
  {
   "cell_type": "code",
   "execution_count": 5,
   "metadata": {},
   "outputs": [],
   "source": [
    "import pandas as pd\n",
    "import numpy as np\n",
    "import matplotlib.pyplot as plt\n",
    "import folium\n",
    "import seaborn as sns\n",
    "from ipywidgets import interact"
   ]
  },
  {
   "cell_type": "markdown",
   "metadata": {},
   "source": [
    "**Auxiliary function imports:**\n",
    "\n",
    "We have implemented some functions into dedicated modules (files `scripts.py`, ...) in order to simplify the code and make this notebook more enjoyable to read."
   ]
  },
  {
   "cell_type": "code",
   "execution_count": null,
   "metadata": {},
   "outputs": [],
   "source": [
    "#from scripts import visualise_world_data_folium, visualise_world_data_bokeh"
   ]
  },
  {
   "cell_type": "markdown",
   "metadata": {},
   "source": [
    "## 1. Data cleansing and preprocessing <a name=\"1\"></a>\n",
    "\n",
    "In this part, we will load, explore and clean the dataset in order to remove typing errors, missing information, inaccuracies, and so on."
   ]
  },
  {
   "cell_type": "markdown",
   "metadata": {},
   "source": [
    "### 1.A. Dataset description <a name=\"1A\"></a>\n",
    "\n",
    "Our main dataset would be a subset of the \"Global Food & Agriculture Statistics\" that is found in the proposed datasets list. In this dataset, we have seen that we could work with the production as well as import and export quantities per year and per country. We will add information about countries GDP to this database."
   ]
  },
  {
   "cell_type": "markdown",
   "metadata": {},
   "source": [
    "### 1.B. Loading the data set  <a name=\"1B\"></a>"
   ]
  },
  {
   "cell_type": "code",
   "execution_count": null,
   "metadata": {},
   "outputs": [],
   "source": []
  },
  {
   "cell_type": "markdown",
   "metadata": {},
   "source": [
    "### 1.C. Understanding the data set  <a name=\"1C\"></a>"
   ]
  },
  {
   "cell_type": "code",
   "execution_count": null,
   "metadata": {},
   "outputs": [],
   "source": []
  },
  {
   "cell_type": "markdown",
   "metadata": {},
   "source": [
    "### 1.D. Cleansing the data set  <a name=\"1D\"></a>"
   ]
  },
  {
   "cell_type": "markdown",
   "metadata": {},
   "source": [
    "#### 1.D.a. Removing unusefull data  <a name=\"1Da\"></a>"
   ]
  },
  {
   "cell_type": "code",
   "execution_count": null,
   "metadata": {},
   "outputs": [],
   "source": []
  },
  {
   "cell_type": "code",
   "execution_count": null,
   "metadata": {},
   "outputs": [],
   "source": []
  },
  {
   "cell_type": "code",
   "execution_count": null,
   "metadata": {},
   "outputs": [],
   "source": []
  },
  {
   "cell_type": "code",
   "execution_count": null,
   "metadata": {},
   "outputs": [],
   "source": []
  },
  {
   "cell_type": "code",
   "execution_count": null,
   "metadata": {},
   "outputs": [],
   "source": []
  },
  {
   "cell_type": "code",
   "execution_count": null,
   "metadata": {},
   "outputs": [],
   "source": []
  }
 ],
 "metadata": {
  "kernelspec": {
   "display_name": "Python 3",
   "language": "python",
   "name": "python3"
  },
  "language_info": {
   "codemirror_mode": {
    "name": "ipython",
    "version": 3
   },
   "file_extension": ".py",
   "mimetype": "text/x-python",
   "name": "python",
   "nbconvert_exporter": "python",
   "pygments_lexer": "ipython3",
   "version": "3.7.4"
  }
 },
 "nbformat": 4,
 "nbformat_minor": 2
}
