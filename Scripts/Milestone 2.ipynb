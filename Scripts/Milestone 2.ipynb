{
 "cells": [
  {
   "cell_type": "markdown",
   "metadata": {},
   "source": [
    "# Who feeds the world ? And how wealthy are they ?"
   ]
  },
  {
   "cell_type": "markdown",
   "metadata": {},
   "source": [
    "## Abstract <a name=\"abstract\"></a>\n",
    "\n",
    "Our main goal in this project is to find social and economic world-wide relations of countries based on the state of their agricultural sector, using indicators such as imports, exports, production, self-sufficiency, etc. In order to find such indicators, we would like to use the data from the \"Global Food & Agriculture Statistics\" datasets. First, we would like to produce a map showing which countries \"feed the world\" i.e. which countries are net-exporting food. That map would contain a slider to show how this evolved over the past fifty years. Then we would like to show countrywise the level of food self-sufficiency i.e. the way a country does not need to trade with other ones in order to feed its population. We will also compare it to nations' economic development and see if some correlations can be found. We will visualize our best findings with several interactive maps and plots."
   ]
  },
  {
   "cell_type": "markdown",
   "metadata": {},
   "source": [
    "## Research questions <a name=\"abstract2\"></a>\n",
    "\n",
    "We would like to work on the following research questions:\n",
    "\n",
    "- How does the production and consumption of food look like from a geographical point of view ? Which countries are net food exporters or importers? How did this evolve over the last few decades ?\n",
    "- What's the level of self-sufficiency in food production of individual countries and how does this change over time ?\n",
    "- Is there a link between the GDP per capita and the agricultural trade balance ? Are countries that are net exporters or importers richer ? Are self-sufficient countries richer ?\n",
    "- If we find any relations, are they also still valid if we check for specific crops ? Are there some crops that are mostly produced by richer countries, some that are mostly produced by poorer countries?\n"
   ]
  },
  {
   "cell_type": "markdown",
   "metadata": {},
   "source": [
    "# Table of contents <a name=\"toc\"></a>\n",
    "\n",
    "\n",
    "[Abstract](#abstract)\n",
    "\n",
    "[Research questions](#abstract2) \n",
    "\n",
    "[Table of contents](#toc)\n",
    "\n",
    "1. [Data cleansing and preprocessing](#1)\n",
    "\n",
    "    1. [Dataset description](#1A)   \n",
    "    \n",
    "    2. [Loading the data set](#1B)\n",
    "    \n",
    "    3. [Understanding the data set](#1C)\n",
    "    \n",
    "    4. [Cleansing the data set](#1D)\n",
    "        \n",
    "    5. [Preprocessing the data set](#1E)\n",
    "        \n",
    "    6. [Making one uniformized dataframe](#1F)\n",
    "        \n",
    "2. [Data exploration and first observations](#2)\n",
    "        \n",
    "    1. [Food productions, importations and exportations](#2A)\n",
    "            \n",
    "    2. [Prices of food](#2B)  \n",
    "                \n",
    "    3. [Structure of international trade](#2C)      \n",
    "        \n",
    "    4. [Economic classification of countries](#2D)    \n",
    "        \n",
    "3. [Descriptive data analysis](#3)\n",
    "\n",
    "    1. [Production and consumption of food from a time-space geography point of view](#3A)\n",
    "\n",
    "    1. [Food self-sufficiency](#3B)\n",
    "\n",
    "    2. [Giving countries an economic score based on their agricultural features](#3C)\n",
    "\n",
    "    3. [Food prices stability and agricultural features](#3C)      \n",
    "\n",
    "4. [Informed plan for next actions](#4)"
   ]
  },
  {
   "cell_type": "markdown",
   "metadata": {},
   "source": [
    "**External imports:**"
   ]
  },
  {
   "cell_type": "code",
   "execution_count": 15,
   "metadata": {},
   "outputs": [],
   "source": [
    "import pandas as pd\n",
    "import numpy as np\n",
    "import os\n",
    "import matplotlib.pyplot as plt\n",
    "import folium\n",
    "import seaborn as sns\n",
    "from ipywidgets import interact\n",
    "from IPython.display import display"
   ]
  },
  {
   "cell_type": "markdown",
   "metadata": {},
   "source": [
    "**Auxiliary function imports:**\n",
    "\n",
    "We have implemented some functions into a dedicated module (file `Milestone_2_scripts.py`) in order to simplify the code and make this notebook more enjoyable to read."
   ]
  },
  {
   "cell_type": "code",
   "execution_count": 16,
   "metadata": {},
   "outputs": [],
   "source": [
    "from Milestone_2_scripts import *"
   ]
  },
  {
   "cell_type": "markdown",
   "metadata": {},
   "source": [
    "**Setup:**"
   ]
  },
  {
   "cell_type": "code",
   "execution_count": 17,
   "metadata": {},
   "outputs": [],
   "source": [
    "data_folder_path = \"./Data/current_FAO/raw_files/\"\n",
    "\n",
    "files = {\"Crops production\" : \"Production_Crops_E_All_Data_(Normalized).csv\",\n",
    "         \"Crops trade\" : \"Trade_Crops_Livestock_E_All_Data_(Normalized).csv\", \n",
    "         \"Population\" : \"Population_E_All_Data_(Norm).csv\",\n",
    "         \"Macroeconomy\" : \"Macro-Statistics_Key_Indicators_E_All_Data_(Normalized).csv\",\n",
    "         \"Livestock production\" : \"Production_Livestock_E_All_Data_(Normalized).csv\",\n",
    "         \"Live animals trade\" : \"Trade_LiveAnimals_E_All_Data_(Normalized).csv\"\n",
    "        }\n",
    "interesting_datasets = files.keys()"
   ]
  },
  {
   "cell_type": "markdown",
   "metadata": {},
   "source": [
    "## 1. Data cleansing and preprocessing <a name=\"1\"></a>\n",
    "\n",
    "In this part, we will load, explore and clean the dataset in order to remove typing errors, missing information, inaccuracies, and so on.\n",
    "\n",
    "1. \n",
    "\n",
    "    1. [Dataset description](#1A)   \n",
    "    \n",
    "    2. [Loading the data set](#1B)\n",
    "    \n",
    "    3. [Understanding the data set](#1C)\n",
    "    \n",
    "    4. [Cleansing the data set](#1D)\n",
    "    \n",
    "        1. [Removing unusefull data](#1Da)         \n",
    "    \n",
    "            1. [Extracting GDP from the macroeconomy dataset](#1Dai)\n",
    "        \n",
    "        2. [Handling of the missing data](#1Db)\n",
    "        \n",
    "            1. [Highlighting the problem](#1Dbi)\n",
    "            \n",
    "            2. [Proposed correction](#1Dbii)\n",
    "        \n",
    "        3. [Correcting inconsistent data entries](#1Dc)\n",
    "        \n",
    "    5. [Preprocessing the data set](#1E)\n",
    "    \n",
    "        1. [Converting country names between different naming conventions](#1Ea)\n",
    "        \n",
    "        2. [Normalization and log scales](#1Eb)\n",
    "        \n",
    "    6. [Making one uniformized dataframe](#1F)"
   ]
  },
  {
   "cell_type": "markdown",
   "metadata": {},
   "source": [
    "### 1.A. Dataset description <a name=\"1A\"></a>\n",
    "\n",
    "Our main dataset would be a subset of the \"Global Food & Agriculture Statistics\" that is found in the proposed datasets list. In this dataset, we have seen that we could work with the production as well as import and export quantities per year and per country. We will add information about countries GDP to this database."
   ]
  },
  {
   "cell_type": "markdown",
   "metadata": {},
   "source": [
    "### 1.B. Loading the data set  <a name=\"1B\"></a>"
   ]
  },
  {
   "cell_type": "code",
   "execution_count": 18,
   "metadata": {},
   "outputs": [],
   "source": [
    "def load_datasets(datasets) :\n",
    "    df = {}\n",
    "    for dataset in datasets :\n",
    "        file_path = data_folder_path + files[dataset]\n",
    "        df[dataset] = pd.read_csv(file_path, encoding = \"ISO-8859-1\")\n",
    "    return df"
   ]
  },
  {
   "cell_type": "markdown",
   "metadata": {},
   "source": [
    "We load each interresting dataset in the dictionary `df` :"
   ]
  },
  {
   "cell_type": "code",
   "execution_count": 19,
   "metadata": {},
   "outputs": [],
   "source": [
    "df = load_datasets(interesting_datasets)"
   ]
  },
  {
   "cell_type": "markdown",
   "metadata": {},
   "source": [
    "### 1.C. Understanding the data set  <a name=\"1C\"></a>\n",
    "\n",
    "In this part, we will have a first look of the datasets."
   ]
  },
  {
   "cell_type": "code",
   "execution_count": 20,
   "metadata": {},
   "outputs": [],
   "source": [
    "def display_df(df, datasets):\n",
    "    for dataset in datasets :\n",
    "        display(dataset, df[dataset].sample(5))"
   ]
  },
  {
   "cell_type": "markdown",
   "metadata": {},
   "source": [
    "In order to see what does the datasets look like, we display a sample of 5 rows for each of them :"
   ]
  },
  {
   "cell_type": "code",
   "execution_count": 21,
   "metadata": {},
   "outputs": [
    {
     "data": {
      "text/plain": [
       "'Crops production'"
      ]
     },
     "metadata": {},
     "output_type": "display_data"
    },
    {
     "data": {
      "text/html": [
       "<div>\n",
       "<style scoped>\n",
       "    .dataframe tbody tr th:only-of-type {\n",
       "        vertical-align: middle;\n",
       "    }\n",
       "\n",
       "    .dataframe tbody tr th {\n",
       "        vertical-align: top;\n",
       "    }\n",
       "\n",
       "    .dataframe thead th {\n",
       "        text-align: right;\n",
       "    }\n",
       "</style>\n",
       "<table border=\"1\" class=\"dataframe\">\n",
       "  <thead>\n",
       "    <tr style=\"text-align: right;\">\n",
       "      <th></th>\n",
       "      <th>Area Code</th>\n",
       "      <th>Area</th>\n",
       "      <th>Item Code</th>\n",
       "      <th>Item</th>\n",
       "      <th>Element Code</th>\n",
       "      <th>Element</th>\n",
       "      <th>Year Code</th>\n",
       "      <th>Year</th>\n",
       "      <th>Unit</th>\n",
       "      <th>Value</th>\n",
       "      <th>Flag</th>\n",
       "    </tr>\n",
       "  </thead>\n",
       "  <tbody>\n",
       "    <tr>\n",
       "      <td>2422613</td>\n",
       "      <td>5502</td>\n",
       "      <td>Melanesia</td>\n",
       "      <td>56</td>\n",
       "      <td>Maize</td>\n",
       "      <td>5419</td>\n",
       "      <td>Yield</td>\n",
       "      <td>2001</td>\n",
       "      <td>2001</td>\n",
       "      <td>hg/ha</td>\n",
       "      <td>32333.0</td>\n",
       "      <td>Fc</td>\n",
       "    </tr>\n",
       "    <tr>\n",
       "      <td>1389214</td>\n",
       "      <td>117</td>\n",
       "      <td>Republic of Korea</td>\n",
       "      <td>677</td>\n",
       "      <td>Hops</td>\n",
       "      <td>5510</td>\n",
       "      <td>Production</td>\n",
       "      <td>1981</td>\n",
       "      <td>1981</td>\n",
       "      <td>tonnes</td>\n",
       "      <td>450.0</td>\n",
       "      <td>NaN</td>\n",
       "    </tr>\n",
       "    <tr>\n",
       "      <td>1883496</td>\n",
       "      <td>5000</td>\n",
       "      <td>World</td>\n",
       "      <td>203</td>\n",
       "      <td>Bambara beans</td>\n",
       "      <td>5312</td>\n",
       "      <td>Area harvested</td>\n",
       "      <td>1988</td>\n",
       "      <td>1988</td>\n",
       "      <td>ha</td>\n",
       "      <td>63420.0</td>\n",
       "      <td>A</td>\n",
       "    </tr>\n",
       "    <tr>\n",
       "      <td>2120625</td>\n",
       "      <td>5206</td>\n",
       "      <td>Caribbean</td>\n",
       "      <td>122</td>\n",
       "      <td>Sweet potatoes</td>\n",
       "      <td>5510</td>\n",
       "      <td>Production</td>\n",
       "      <td>2002</td>\n",
       "      <td>2002</td>\n",
       "      <td>tonnes</td>\n",
       "      <td>635610.0</td>\n",
       "      <td>A</td>\n",
       "    </tr>\n",
       "    <tr>\n",
       "      <td>1589272</td>\n",
       "      <td>207</td>\n",
       "      <td>Suriname</td>\n",
       "      <td>122</td>\n",
       "      <td>Sweet potatoes</td>\n",
       "      <td>5525</td>\n",
       "      <td>Seed</td>\n",
       "      <td>1965</td>\n",
       "      <td>1965</td>\n",
       "      <td>tonnes</td>\n",
       "      <td>29.0</td>\n",
       "      <td>Fc</td>\n",
       "    </tr>\n",
       "  </tbody>\n",
       "</table>\n",
       "</div>"
      ],
      "text/plain": [
       "         Area Code               Area  Item Code            Item  \\\n",
       "2422613       5502          Melanesia         56           Maize   \n",
       "1389214        117  Republic of Korea        677            Hops   \n",
       "1883496       5000              World        203   Bambara beans   \n",
       "2120625       5206          Caribbean        122  Sweet potatoes   \n",
       "1589272        207           Suriname        122  Sweet potatoes   \n",
       "\n",
       "         Element Code         Element  Year Code  Year    Unit     Value Flag  \n",
       "2422613          5419           Yield       2001  2001   hg/ha   32333.0   Fc  \n",
       "1389214          5510      Production       1981  1981  tonnes     450.0  NaN  \n",
       "1883496          5312  Area harvested       1988  1988      ha   63420.0    A  \n",
       "2120625          5510      Production       2002  2002  tonnes  635610.0    A  \n",
       "1589272          5525            Seed       1965  1965  tonnes      29.0   Fc  "
      ]
     },
     "metadata": {},
     "output_type": "display_data"
    },
    {
     "data": {
      "text/plain": [
       "'Crops trade'"
      ]
     },
     "metadata": {},
     "output_type": "display_data"
    },
    {
     "data": {
      "text/html": [
       "<div>\n",
       "<style scoped>\n",
       "    .dataframe tbody tr th:only-of-type {\n",
       "        vertical-align: middle;\n",
       "    }\n",
       "\n",
       "    .dataframe tbody tr th {\n",
       "        vertical-align: top;\n",
       "    }\n",
       "\n",
       "    .dataframe thead th {\n",
       "        text-align: right;\n",
       "    }\n",
       "</style>\n",
       "<table border=\"1\" class=\"dataframe\">\n",
       "  <thead>\n",
       "    <tr style=\"text-align: right;\">\n",
       "      <th></th>\n",
       "      <th>Area Code</th>\n",
       "      <th>Area</th>\n",
       "      <th>Item Code</th>\n",
       "      <th>Item</th>\n",
       "      <th>Element Code</th>\n",
       "      <th>Element</th>\n",
       "      <th>Year Code</th>\n",
       "      <th>Year</th>\n",
       "      <th>Unit</th>\n",
       "      <th>Value</th>\n",
       "      <th>Flag</th>\n",
       "    </tr>\n",
       "  </thead>\n",
       "  <tbody>\n",
       "    <tr>\n",
       "      <td>4910525</td>\n",
       "      <td>100</td>\n",
       "      <td>India</td>\n",
       "      <td>550</td>\n",
       "      <td>Currants</td>\n",
       "      <td>5622</td>\n",
       "      <td>Import Value</td>\n",
       "      <td>1993</td>\n",
       "      <td>1993</td>\n",
       "      <td>1000 US$</td>\n",
       "      <td>NaN</td>\n",
       "      <td>M</td>\n",
       "    </tr>\n",
       "    <tr>\n",
       "      <td>13044737</td>\n",
       "      <td>5303</td>\n",
       "      <td>Southern Asia</td>\n",
       "      <td>831</td>\n",
       "      <td>Tobacco products nes</td>\n",
       "      <td>5922</td>\n",
       "      <td>Export Value</td>\n",
       "      <td>1974</td>\n",
       "      <td>1974</td>\n",
       "      <td>1000 US$</td>\n",
       "      <td>2318.0</td>\n",
       "      <td>A</td>\n",
       "    </tr>\n",
       "    <tr>\n",
       "      <td>12075995</td>\n",
       "      <td>5102</td>\n",
       "      <td>Middle Africa</td>\n",
       "      <td>2027</td>\n",
       "      <td>Meat of Swine</td>\n",
       "      <td>5922</td>\n",
       "      <td>Export Value</td>\n",
       "      <td>2004</td>\n",
       "      <td>2004</td>\n",
       "      <td>1000 US$</td>\n",
       "      <td>32.0</td>\n",
       "      <td>A</td>\n",
       "    </tr>\n",
       "    <tr>\n",
       "      <td>578363</td>\n",
       "      <td>11</td>\n",
       "      <td>Austria</td>\n",
       "      <td>1899</td>\n",
       "      <td>Oilseeds</td>\n",
       "      <td>5610</td>\n",
       "      <td>Import Quantity</td>\n",
       "      <td>1964</td>\n",
       "      <td>1964</td>\n",
       "      <td>tonnes</td>\n",
       "      <td>9419.0</td>\n",
       "      <td>A</td>\n",
       "    </tr>\n",
       "    <tr>\n",
       "      <td>14353445</td>\n",
       "      <td>5803</td>\n",
       "      <td>Small Island Developing States</td>\n",
       "      <td>748</td>\n",
       "      <td>Peppermint</td>\n",
       "      <td>5622</td>\n",
       "      <td>Import Value</td>\n",
       "      <td>1988</td>\n",
       "      <td>1988</td>\n",
       "      <td>1000 US$</td>\n",
       "      <td>NaN</td>\n",
       "      <td>A</td>\n",
       "    </tr>\n",
       "  </tbody>\n",
       "</table>\n",
       "</div>"
      ],
      "text/plain": [
       "          Area Code                            Area  Item Code  \\\n",
       "4910525         100                           India        550   \n",
       "13044737       5303                   Southern Asia        831   \n",
       "12075995       5102                   Middle Africa       2027   \n",
       "578363           11                         Austria       1899   \n",
       "14353445       5803  Small Island Developing States        748   \n",
       "\n",
       "                          Item  Element Code          Element  Year Code  \\\n",
       "4910525               Currants          5622     Import Value       1993   \n",
       "13044737  Tobacco products nes          5922     Export Value       1974   \n",
       "12075995         Meat of Swine          5922     Export Value       2004   \n",
       "578363                Oilseeds          5610  Import Quantity       1964   \n",
       "14353445            Peppermint          5622     Import Value       1988   \n",
       "\n",
       "          Year      Unit   Value Flag  \n",
       "4910525   1993  1000 US$     NaN    M  \n",
       "13044737  1974  1000 US$  2318.0    A  \n",
       "12075995  2004  1000 US$    32.0    A  \n",
       "578363    1964    tonnes  9419.0    A  \n",
       "14353445  1988  1000 US$     NaN    A  "
      ]
     },
     "metadata": {},
     "output_type": "display_data"
    },
    {
     "data": {
      "text/plain": [
       "'Population'"
      ]
     },
     "metadata": {},
     "output_type": "display_data"
    },
    {
     "data": {
      "text/html": [
       "<div>\n",
       "<style scoped>\n",
       "    .dataframe tbody tr th:only-of-type {\n",
       "        vertical-align: middle;\n",
       "    }\n",
       "\n",
       "    .dataframe tbody tr th {\n",
       "        vertical-align: top;\n",
       "    }\n",
       "\n",
       "    .dataframe thead th {\n",
       "        text-align: right;\n",
       "    }\n",
       "</style>\n",
       "<table border=\"1\" class=\"dataframe\">\n",
       "  <thead>\n",
       "    <tr style=\"text-align: right;\">\n",
       "      <th></th>\n",
       "      <th>Country Code</th>\n",
       "      <th>Country</th>\n",
       "      <th>Item Code</th>\n",
       "      <th>Item</th>\n",
       "      <th>Element Code</th>\n",
       "      <th>Element</th>\n",
       "      <th>Year Code</th>\n",
       "      <th>Year</th>\n",
       "      <th>Unit</th>\n",
       "      <th>Value</th>\n",
       "      <th>Flag</th>\n",
       "    </tr>\n",
       "  </thead>\n",
       "  <tbody>\n",
       "    <tr>\n",
       "      <td>85222</td>\n",
       "      <td>121</td>\n",
       "      <td>Lebanon</td>\n",
       "      <td>3010</td>\n",
       "      <td>Population - Est. &amp; Proj.</td>\n",
       "      <td>561</td>\n",
       "      <td>Urban population</td>\n",
       "      <td>2058</td>\n",
       "      <td>2058</td>\n",
       "      <td>1000</td>\n",
       "      <td>0.000</td>\n",
       "      <td>XUru</td>\n",
       "    </tr>\n",
       "    <tr>\n",
       "      <td>100488</td>\n",
       "      <td>273</td>\n",
       "      <td>Montenegro</td>\n",
       "      <td>3010</td>\n",
       "      <td>Population - Est. &amp; Proj.</td>\n",
       "      <td>513</td>\n",
       "      <td>Total Population - Female</td>\n",
       "      <td>2054</td>\n",
       "      <td>2054</td>\n",
       "      <td>1000</td>\n",
       "      <td>282.722</td>\n",
       "      <td>XU</td>\n",
       "    </tr>\n",
       "    <tr>\n",
       "      <td>91072</td>\n",
       "      <td>131</td>\n",
       "      <td>Malaysia</td>\n",
       "      <td>3010</td>\n",
       "      <td>Population - Est. &amp; Proj.</td>\n",
       "      <td>512</td>\n",
       "      <td>Total Population - Male</td>\n",
       "      <td>2026</td>\n",
       "      <td>2026</td>\n",
       "      <td>1000</td>\n",
       "      <td>17134.354</td>\n",
       "      <td>XU</td>\n",
       "    </tr>\n",
       "    <tr>\n",
       "      <td>118235</td>\n",
       "      <td>170</td>\n",
       "      <td>Peru</td>\n",
       "      <td>3010</td>\n",
       "      <td>Population - Est. &amp; Proj.</td>\n",
       "      <td>511</td>\n",
       "      <td>Total Population - Both sexes</td>\n",
       "      <td>1995</td>\n",
       "      <td>1995</td>\n",
       "      <td>1000</td>\n",
       "      <td>24038.761</td>\n",
       "      <td>XU</td>\n",
       "    </tr>\n",
       "    <tr>\n",
       "      <td>76278</td>\n",
       "      <td>105</td>\n",
       "      <td>Israel</td>\n",
       "      <td>3010</td>\n",
       "      <td>Population - Est. &amp; Proj.</td>\n",
       "      <td>512</td>\n",
       "      <td>Total Population - Male</td>\n",
       "      <td>1997</td>\n",
       "      <td>1997</td>\n",
       "      <td>1000</td>\n",
       "      <td>2775.780</td>\n",
       "      <td>XU</td>\n",
       "    </tr>\n",
       "  </tbody>\n",
       "</table>\n",
       "</div>"
      ],
      "text/plain": [
       "        Country Code     Country  Item Code                       Item  \\\n",
       "85222            121     Lebanon       3010  Population - Est. & Proj.   \n",
       "100488           273  Montenegro       3010  Population - Est. & Proj.   \n",
       "91072            131    Malaysia       3010  Population - Est. & Proj.   \n",
       "118235           170        Peru       3010  Population - Est. & Proj.   \n",
       "76278            105      Israel       3010  Population - Est. & Proj.   \n",
       "\n",
       "        Element Code                        Element  Year Code  Year  Unit  \\\n",
       "85222            561               Urban population       2058  2058  1000   \n",
       "100488           513      Total Population - Female       2054  2054  1000   \n",
       "91072            512        Total Population - Male       2026  2026  1000   \n",
       "118235           511  Total Population - Both sexes       1995  1995  1000   \n",
       "76278            512        Total Population - Male       1997  1997  1000   \n",
       "\n",
       "            Value  Flag  \n",
       "85222       0.000  XUru  \n",
       "100488    282.722    XU  \n",
       "91072   17134.354    XU  \n",
       "118235  24038.761    XU  \n",
       "76278    2775.780    XU  "
      ]
     },
     "metadata": {},
     "output_type": "display_data"
    },
    {
     "data": {
      "text/plain": [
       "'Macroeconomy'"
      ]
     },
     "metadata": {},
     "output_type": "display_data"
    },
    {
     "data": {
      "text/html": [
       "<div>\n",
       "<style scoped>\n",
       "    .dataframe tbody tr th:only-of-type {\n",
       "        vertical-align: middle;\n",
       "    }\n",
       "\n",
       "    .dataframe tbody tr th {\n",
       "        vertical-align: top;\n",
       "    }\n",
       "\n",
       "    .dataframe thead th {\n",
       "        text-align: right;\n",
       "    }\n",
       "</style>\n",
       "<table border=\"1\" class=\"dataframe\">\n",
       "  <thead>\n",
       "    <tr style=\"text-align: right;\">\n",
       "      <th></th>\n",
       "      <th>Area Code</th>\n",
       "      <th>Area</th>\n",
       "      <th>Item Code</th>\n",
       "      <th>Item</th>\n",
       "      <th>Element Code</th>\n",
       "      <th>Element</th>\n",
       "      <th>Year Code</th>\n",
       "      <th>Year</th>\n",
       "      <th>Unit</th>\n",
       "      <th>Value</th>\n",
       "      <th>Flag</th>\n",
       "    </tr>\n",
       "  </thead>\n",
       "  <tbody>\n",
       "    <tr>\n",
       "      <td>453359</td>\n",
       "      <td>209</td>\n",
       "      <td>Swaziland</td>\n",
       "      <td>22075</td>\n",
       "      <td>Value Added (Total Manufacturing)</td>\n",
       "      <td>6157</td>\n",
       "      <td>Share of GDP in Local Currency</td>\n",
       "      <td>2006</td>\n",
       "      <td>2006</td>\n",
       "      <td>%</td>\n",
       "      <td>32.863407</td>\n",
       "      <td>Fc</td>\n",
       "    </tr>\n",
       "    <tr>\n",
       "      <td>140385</td>\n",
       "      <td>54</td>\n",
       "      <td>Denmark</td>\n",
       "      <td>22075</td>\n",
       "      <td>Value Added (Total Manufacturing)</td>\n",
       "      <td>6158</td>\n",
       "      <td>Share of GDP in Local Currency, 2005 prices</td>\n",
       "      <td>1974</td>\n",
       "      <td>1974</td>\n",
       "      <td>%</td>\n",
       "      <td>15.711578</td>\n",
       "      <td>Fc</td>\n",
       "    </tr>\n",
       "    <tr>\n",
       "      <td>235004</td>\n",
       "      <td>106</td>\n",
       "      <td>Italy</td>\n",
       "      <td>22078</td>\n",
       "      <td>Value Added (Manufacture of tobacco products)</td>\n",
       "      <td>6114</td>\n",
       "      <td>Value Local Currency, 2005 prices</td>\n",
       "      <td>1977</td>\n",
       "      <td>1977</td>\n",
       "      <td>millions</td>\n",
       "      <td>NaN</td>\n",
       "      <td>NaN</td>\n",
       "    </tr>\n",
       "    <tr>\n",
       "      <td>428667</td>\n",
       "      <td>199</td>\n",
       "      <td>Slovakia</td>\n",
       "      <td>22076</td>\n",
       "      <td>Value Added (Manufacture of food, beverages an...</td>\n",
       "      <td>6144</td>\n",
       "      <td>Share of Agriculture, Forestry and Fisheries</td>\n",
       "      <td>2005</td>\n",
       "      <td>2005</td>\n",
       "      <td>%</td>\n",
       "      <td>59.996341</td>\n",
       "      <td>Fc</td>\n",
       "    </tr>\n",
       "    <tr>\n",
       "      <td>302739</td>\n",
       "      <td>138</td>\n",
       "      <td>Mexico</td>\n",
       "      <td>22075</td>\n",
       "      <td>Value Added (Total Manufacturing)</td>\n",
       "      <td>6155</td>\n",
       "      <td>Annual growth Local Currency</td>\n",
       "      <td>1977</td>\n",
       "      <td>1977</td>\n",
       "      <td>%</td>\n",
       "      <td>39.592136</td>\n",
       "      <td>Fc</td>\n",
       "    </tr>\n",
       "  </tbody>\n",
       "</table>\n",
       "</div>"
      ],
      "text/plain": [
       "        Area Code       Area  Item Code  \\\n",
       "453359        209  Swaziland      22075   \n",
       "140385         54    Denmark      22075   \n",
       "235004        106      Italy      22078   \n",
       "428667        199   Slovakia      22076   \n",
       "302739        138     Mexico      22075   \n",
       "\n",
       "                                                     Item  Element Code  \\\n",
       "453359                  Value Added (Total Manufacturing)          6157   \n",
       "140385                  Value Added (Total Manufacturing)          6158   \n",
       "235004      Value Added (Manufacture of tobacco products)          6114   \n",
       "428667  Value Added (Manufacture of food, beverages an...          6144   \n",
       "302739                  Value Added (Total Manufacturing)          6155   \n",
       "\n",
       "                                             Element  Year Code  Year  \\\n",
       "453359                Share of GDP in Local Currency       2006  2006   \n",
       "140385   Share of GDP in Local Currency, 2005 prices       1974  1974   \n",
       "235004             Value Local Currency, 2005 prices       1977  1977   \n",
       "428667  Share of Agriculture, Forestry and Fisheries       2005  2005   \n",
       "302739                  Annual growth Local Currency       1977  1977   \n",
       "\n",
       "            Unit      Value Flag  \n",
       "453359         %  32.863407   Fc  \n",
       "140385         %  15.711578   Fc  \n",
       "235004  millions        NaN  NaN  \n",
       "428667         %  59.996341   Fc  \n",
       "302739         %  39.592136   Fc  "
      ]
     },
     "metadata": {},
     "output_type": "display_data"
    },
    {
     "data": {
      "text/plain": [
       "'Livestock production'"
      ]
     },
     "metadata": {},
     "output_type": "display_data"
    },
    {
     "data": {
      "text/html": [
       "<div>\n",
       "<style scoped>\n",
       "    .dataframe tbody tr th:only-of-type {\n",
       "        vertical-align: middle;\n",
       "    }\n",
       "\n",
       "    .dataframe tbody tr th {\n",
       "        vertical-align: top;\n",
       "    }\n",
       "\n",
       "    .dataframe thead th {\n",
       "        text-align: right;\n",
       "    }\n",
       "</style>\n",
       "<table border=\"1\" class=\"dataframe\">\n",
       "  <thead>\n",
       "    <tr style=\"text-align: right;\">\n",
       "      <th></th>\n",
       "      <th>Area Code</th>\n",
       "      <th>Area</th>\n",
       "      <th>Item Code</th>\n",
       "      <th>Item</th>\n",
       "      <th>Element Code</th>\n",
       "      <th>Element</th>\n",
       "      <th>Year Code</th>\n",
       "      <th>Year</th>\n",
       "      <th>Unit</th>\n",
       "      <th>Value</th>\n",
       "      <th>Flag</th>\n",
       "    </tr>\n",
       "  </thead>\n",
       "  <tbody>\n",
       "    <tr>\n",
       "      <td>80052</td>\n",
       "      <td>147</td>\n",
       "      <td>Namibia</td>\n",
       "      <td>1746</td>\n",
       "      <td>Cattle and Buffaloes</td>\n",
       "      <td>5111</td>\n",
       "      <td>Stocks</td>\n",
       "      <td>1979</td>\n",
       "      <td>1979</td>\n",
       "      <td>Head</td>\n",
       "      <td>2389343.0</td>\n",
       "      <td>A</td>\n",
       "    </tr>\n",
       "    <tr>\n",
       "      <td>96249</td>\n",
       "      <td>182</td>\n",
       "      <td>Réunion</td>\n",
       "      <td>2029</td>\n",
       "      <td>Poultry Birds</td>\n",
       "      <td>5112</td>\n",
       "      <td>Stocks</td>\n",
       "      <td>1992</td>\n",
       "      <td>1992</td>\n",
       "      <td>1000 Head</td>\n",
       "      <td>8391.0</td>\n",
       "      <td>A</td>\n",
       "    </tr>\n",
       "    <tr>\n",
       "      <td>131018</td>\n",
       "      <td>5100</td>\n",
       "      <td>Africa</td>\n",
       "      <td>946</td>\n",
       "      <td>Buffaloes</td>\n",
       "      <td>5111</td>\n",
       "      <td>Stocks</td>\n",
       "      <td>2006</td>\n",
       "      <td>2006</td>\n",
       "      <td>Head</td>\n",
       "      <td>3937025.0</td>\n",
       "      <td>A</td>\n",
       "    </tr>\n",
       "    <tr>\n",
       "      <td>58120</td>\n",
       "      <td>103</td>\n",
       "      <td>Iraq</td>\n",
       "      <td>1057</td>\n",
       "      <td>Chickens</td>\n",
       "      <td>5112</td>\n",
       "      <td>Stocks</td>\n",
       "      <td>2001</td>\n",
       "      <td>2001</td>\n",
       "      <td>1000 Head</td>\n",
       "      <td>28000.0</td>\n",
       "      <td>F</td>\n",
       "    </tr>\n",
       "    <tr>\n",
       "      <td>114550</td>\n",
       "      <td>176</td>\n",
       "      <td>Timor-Leste</td>\n",
       "      <td>1096</td>\n",
       "      <td>Horses</td>\n",
       "      <td>5111</td>\n",
       "      <td>Stocks</td>\n",
       "      <td>1965</td>\n",
       "      <td>1965</td>\n",
       "      <td>Head</td>\n",
       "      <td>100000.0</td>\n",
       "      <td>F</td>\n",
       "    </tr>\n",
       "  </tbody>\n",
       "</table>\n",
       "</div>"
      ],
      "text/plain": [
       "        Area Code         Area  Item Code                  Item  Element Code  \\\n",
       "80052         147      Namibia       1746  Cattle and Buffaloes          5111   \n",
       "96249         182      Réunion       2029         Poultry Birds          5112   \n",
       "131018       5100       Africa        946             Buffaloes          5111   \n",
       "58120         103         Iraq       1057              Chickens          5112   \n",
       "114550        176  Timor-Leste       1096                Horses          5111   \n",
       "\n",
       "       Element  Year Code  Year       Unit      Value Flag  \n",
       "80052   Stocks       1979  1979       Head  2389343.0    A  \n",
       "96249   Stocks       1992  1992  1000 Head     8391.0    A  \n",
       "131018  Stocks       2006  2006       Head  3937025.0    A  \n",
       "58120   Stocks       2001  2001  1000 Head    28000.0    F  \n",
       "114550  Stocks       1965  1965       Head   100000.0    F  "
      ]
     },
     "metadata": {},
     "output_type": "display_data"
    },
    {
     "data": {
      "text/plain": [
       "'Live animals trade'"
      ]
     },
     "metadata": {},
     "output_type": "display_data"
    },
    {
     "data": {
      "text/html": [
       "<div>\n",
       "<style scoped>\n",
       "    .dataframe tbody tr th:only-of-type {\n",
       "        vertical-align: middle;\n",
       "    }\n",
       "\n",
       "    .dataframe tbody tr th {\n",
       "        vertical-align: top;\n",
       "    }\n",
       "\n",
       "    .dataframe thead th {\n",
       "        text-align: right;\n",
       "    }\n",
       "</style>\n",
       "<table border=\"1\" class=\"dataframe\">\n",
       "  <thead>\n",
       "    <tr style=\"text-align: right;\">\n",
       "      <th></th>\n",
       "      <th>Area Code</th>\n",
       "      <th>Area</th>\n",
       "      <th>Item Code</th>\n",
       "      <th>Item</th>\n",
       "      <th>Element Code</th>\n",
       "      <th>Element</th>\n",
       "      <th>Year Code</th>\n",
       "      <th>Year</th>\n",
       "      <th>Unit</th>\n",
       "      <th>Value</th>\n",
       "      <th>Flag</th>\n",
       "    </tr>\n",
       "  </thead>\n",
       "  <tbody>\n",
       "    <tr>\n",
       "      <td>651363</td>\n",
       "      <td>5803</td>\n",
       "      <td>Small Island Developing States</td>\n",
       "      <td>866</td>\n",
       "      <td>Cattle</td>\n",
       "      <td>5922</td>\n",
       "      <td>Export Value</td>\n",
       "      <td>1973</td>\n",
       "      <td>1973</td>\n",
       "      <td>1000 US$</td>\n",
       "      <td>200.0</td>\n",
       "      <td>A</td>\n",
       "    </tr>\n",
       "    <tr>\n",
       "      <td>203308</td>\n",
       "      <td>90</td>\n",
       "      <td>Guinea</td>\n",
       "      <td>1921</td>\n",
       "      <td>Bovine, Animals</td>\n",
       "      <td>5908</td>\n",
       "      <td>Export Quantity</td>\n",
       "      <td>2000</td>\n",
       "      <td>2000</td>\n",
       "      <td>Head</td>\n",
       "      <td>15000.0</td>\n",
       "      <td>A</td>\n",
       "    </tr>\n",
       "    <tr>\n",
       "      <td>625287</td>\n",
       "      <td>5500</td>\n",
       "      <td>Oceania</td>\n",
       "      <td>1079</td>\n",
       "      <td>Turkeys</td>\n",
       "      <td>5622</td>\n",
       "      <td>Import Value</td>\n",
       "      <td>1992</td>\n",
       "      <td>1992</td>\n",
       "      <td>1000 US$</td>\n",
       "      <td>NaN</td>\n",
       "      <td>A</td>\n",
       "    </tr>\n",
       "    <tr>\n",
       "      <td>471421</td>\n",
       "      <td>223</td>\n",
       "      <td>Turkey</td>\n",
       "      <td>976</td>\n",
       "      <td>Sheep</td>\n",
       "      <td>5908</td>\n",
       "      <td>Export Quantity</td>\n",
       "      <td>1971</td>\n",
       "      <td>1971</td>\n",
       "      <td>Head</td>\n",
       "      <td>410197.0</td>\n",
       "      <td>NaN</td>\n",
       "    </tr>\n",
       "    <tr>\n",
       "      <td>406295</td>\n",
       "      <td>195</td>\n",
       "      <td>Senegal</td>\n",
       "      <td>976</td>\n",
       "      <td>Sheep</td>\n",
       "      <td>5922</td>\n",
       "      <td>Export Value</td>\n",
       "      <td>1977</td>\n",
       "      <td>1977</td>\n",
       "      <td>1000 US$</td>\n",
       "      <td>145.0</td>\n",
       "      <td>F</td>\n",
       "    </tr>\n",
       "  </tbody>\n",
       "</table>\n",
       "</div>"
      ],
      "text/plain": [
       "        Area Code                            Area  Item Code             Item  \\\n",
       "651363       5803  Small Island Developing States        866           Cattle   \n",
       "203308         90                          Guinea       1921  Bovine, Animals   \n",
       "625287       5500                         Oceania       1079          Turkeys   \n",
       "471421        223                          Turkey        976            Sheep   \n",
       "406295        195                         Senegal        976            Sheep   \n",
       "\n",
       "        Element Code          Element  Year Code  Year      Unit     Value  \\\n",
       "651363          5922     Export Value       1973  1973  1000 US$     200.0   \n",
       "203308          5908  Export Quantity       2000  2000      Head   15000.0   \n",
       "625287          5622     Import Value       1992  1992  1000 US$       NaN   \n",
       "471421          5908  Export Quantity       1971  1971      Head  410197.0   \n",
       "406295          5922     Export Value       1977  1977  1000 US$     145.0   \n",
       "\n",
       "       Flag  \n",
       "651363    A  \n",
       "203308    A  \n",
       "625287    A  \n",
       "471421  NaN  \n",
       "406295    F  "
      ]
     },
     "metadata": {},
     "output_type": "display_data"
    }
   ],
   "source": [
    "display_df(df, interesting_datasets)"
   ]
  },
  {
   "cell_type": "markdown",
   "metadata": {},
   "source": [
    "At first glance, our datasets seem very clean.\n",
    "\n",
    "Each of our dataset contains a column \"Year\" and a column that is either named \"Area\" or \"Country\". This is a great news for us since we want to do a both geographical and time-related analysis.\n",
    "\n",
    "The columns \"Area\" and \"Country\" both correspond to the country except that the \"Area\" may contains a group of country (e.g. \"Eastern Europe\")."
   ]
  },
  {
   "cell_type": "markdown",
   "metadata": {},
   "source": [
    "### 1.D. Cleansing the data set  <a name=\"1D\"></a>\n",
    "\n",
    "In this part, we will clean the datasets. The final goal is to produce one uniformized and normalized dataset on which we could work (see [1.F](#1F)).\n",
    "\n",
    "Such a cleaned dataset may look like this  (in a very simplistic way):\n",
    "\n",
    "    Country | Year | GDP | Crops production | Livestock production"
   ]
  },
  {
   "cell_type": "markdown",
   "metadata": {},
   "source": [
    "#### 1.D.a. Removing unusefull data  <a name=\"1Da\"></a>\n",
    "\n",
    "In this section, we will create dataframes in `df_usefull` which correspond to previous dataframes without the unusefull data."
   ]
  },
  {
   "cell_type": "code",
   "execution_count": 22,
   "metadata": {},
   "outputs": [],
   "source": [
    "df_usefull = {}"
   ]
  },
  {
   "cell_type": "markdown",
   "metadata": {},
   "source": [
    "##### 1.D.a.i. Extracting GDP from the macroeconomy dataset <a name=\"1Dai\"></a>"
   ]
  },
  {
   "cell_type": "code",
   "execution_count": 23,
   "metadata": {},
   "outputs": [],
   "source": [
    "def extract_GDP(df):\n",
    "    def selection_GDP(df):\n",
    "        return df['Item']=='Gross Domestic Product'\n",
    "    def selection_US_dollars(df):\n",
    "        return df['Element']==\"Value US$\"\n",
    "    def drop_columns(df):\n",
    "        dropped_colmuns = [\"Item Code\", \"Item\", \"Element Code\", \"Element\", \"Flag\", \"Year Code\", \"Unit\", \"Area Code\"]\n",
    "        return df.drop(columns = dropped_colmuns)\n",
    "    return drop_columns(df[selection_GDP(df)&selection_US_dollars(df)])"
   ]
  },
  {
   "cell_type": "code",
   "execution_count": 24,
   "metadata": {},
   "outputs": [],
   "source": [
    "df_usefull[\"GDP\"] = extract_GDP(df[\"Macroeconomy\"])"
   ]
  },
  {
   "cell_type": "code",
   "execution_count": 25,
   "metadata": {},
   "outputs": [
    {
     "data": {
      "text/html": [
       "<div>\n",
       "<style scoped>\n",
       "    .dataframe tbody tr th:only-of-type {\n",
       "        vertical-align: middle;\n",
       "    }\n",
       "\n",
       "    .dataframe tbody tr th {\n",
       "        vertical-align: top;\n",
       "    }\n",
       "\n",
       "    .dataframe thead th {\n",
       "        text-align: right;\n",
       "    }\n",
       "</style>\n",
       "<table border=\"1\" class=\"dataframe\">\n",
       "  <thead>\n",
       "    <tr style=\"text-align: right;\">\n",
       "      <th></th>\n",
       "      <th>Area</th>\n",
       "      <th>Year</th>\n",
       "      <th>Value</th>\n",
       "    </tr>\n",
       "  </thead>\n",
       "  <tbody>\n",
       "    <tr>\n",
       "      <td>549511</td>\n",
       "      <td>South-Eastern Asia</td>\n",
       "      <td>2003</td>\n",
       "      <td>757290.531908</td>\n",
       "    </tr>\n",
       "    <tr>\n",
       "      <td>74002</td>\n",
       "      <td>Burkina Faso</td>\n",
       "      <td>2001</td>\n",
       "      <td>2834.162162</td>\n",
       "    </tr>\n",
       "    <tr>\n",
       "      <td>343210</td>\n",
       "      <td>Niger</td>\n",
       "      <td>1996</td>\n",
       "      <td>1912.512510</td>\n",
       "    </tr>\n",
       "    <tr>\n",
       "      <td>130347</td>\n",
       "      <td>Czechia</td>\n",
       "      <td>2003</td>\n",
       "      <td>99300.329682</td>\n",
       "    </tr>\n",
       "    <tr>\n",
       "      <td>5164</td>\n",
       "      <td>Algeria</td>\n",
       "      <td>2012</td>\n",
       "      <td>209047.479470</td>\n",
       "    </tr>\n",
       "  </tbody>\n",
       "</table>\n",
       "</div>"
      ],
      "text/plain": [
       "                      Area  Year          Value\n",
       "549511  South-Eastern Asia  2003  757290.531908\n",
       "74002         Burkina Faso  2001    2834.162162\n",
       "343210               Niger  1996    1912.512510\n",
       "130347             Czechia  2003   99300.329682\n",
       "5164               Algeria  2012  209047.479470"
      ]
     },
     "metadata": {},
     "output_type": "display_data"
    }
   ],
   "source": [
    "display(df_usefull[\"GDP\"].sample(5))"
   ]
  },
  {
   "cell_type": "markdown",
   "metadata": {},
   "source": [
    "##### 1.D.a.ii. ... <a name=\"1Daii\"></a>\n",
    "\n",
    "TODO crops and livestock, production and trade"
   ]
  },
  {
   "cell_type": "markdown",
   "metadata": {},
   "source": [
    "##### 1.D.a.iii. Removing areas whiwh are not countries <a name=\"1Daiii\"></a>\n",
    "\n",
    "TODO"
   ]
  },
  {
   "cell_type": "markdown",
   "metadata": {},
   "source": [
    "#### 1.D.b. Handling of the missing data  <a name=\"1Db\"></a>\n",
    "\n",
    "In this section, we will create dataframes in `df_usefull_nomissing` which correspond to previous dataframes without the missing data."
   ]
  },
  {
   "cell_type": "code",
   "execution_count": 32,
   "metadata": {},
   "outputs": [],
   "source": [
    "df_usefull_nomissing = {}"
   ]
  },
  {
   "cell_type": "markdown",
   "metadata": {},
   "source": [
    "##### 1.D.b.i. Highlighting the problem  <a name=\"1Dbi\"></a> "
   ]
  },
  {
   "cell_type": "code",
   "execution_count": 33,
   "metadata": {},
   "outputs": [
    {
     "data": {
      "text/plain": [
       "<matplotlib.axes._subplots.AxesSubplot at 0x20ec96cb7c8>"
      ]
     },
     "execution_count": 33,
     "metadata": {},
     "output_type": "execute_result"
    },
    {
     "data": {
      "image/png": "[encoded data removed]",
      "text/plain": [
       "<Figure size 432x288 with 1 Axes>"
      ]
     },
     "metadata": {
      "needs_background": "light"
     },
     "output_type": "display_data"
    },
    {
     "data": {
      "image/png": "[encoded data removed]",
      "text/plain": [
       "<Figure size 432x288 with 1 Axes>"
      ]
     },
     "metadata": {
      "needs_background": "light"
     },
     "output_type": "display_data"
    }
   ],
   "source": [
    "df_usefull[\"GDP\"][df_usefull[\"GDP\"]['Area']=='USSR'].plot(x ='Year', y='Value', kind = 'line')\n",
    "df_usefull[\"GDP\"][df_usefull[\"GDP\"]['Area']=='Ukraine'].plot(x ='Year', y='Value', kind = 'line')"
   ]
  },
  {
   "cell_type": "markdown",
   "metadata": {},
   "source": [
    "##### 1.D.b.ii. Proposed correction  <a name=\"1Dbii\"></a> \n",
    "\n",
    "TODO (for countries which has appeared, give them value for previous year)\n",
    "(for example in 1990 : Ukraine is X% of GPD of all countries that appeared from USSR so for 1970->1989 we give Ukraine value X%*GDP(USSR))"
   ]
  },
  {
   "cell_type": "code",
   "execution_count": null,
   "metadata": {},
   "outputs": [],
   "source": []
  },
  {
   "cell_type": "markdown",
   "metadata": {},
   "source": [
    "#### 1.D.c. Correcting inconsistent data entries  <a name=\"1Dc\"></a>\n",
    "\n",
    "In this section, we will create dataframes in `df_cleansed` which correspond to previous dataframes where the inconsistent data entries have been corrected."
   ]
  },
  {
   "cell_type": "code",
   "execution_count": 28,
   "metadata": {},
   "outputs": [],
   "source": [
    "df_cleansed = {}"
   ]
  },
  {
   "cell_type": "markdown",
   "metadata": {},
   "source": [
    "### 1.E. Preprocessing the data set  <a name=\"1E\"></a>\n",
    "\n",
    "In this part, we will finish prepocessing the datasets. More precisely, we will deal with country names and normalizing the features."
   ]
  },
  {
   "cell_type": "markdown",
   "metadata": {},
   "source": [
    "#### 1.E.a. Converting country names between different naming conventions  <a name=\"1Ea\"></a>\n",
    "\n",
    "TODO, explain why (folium) + either Martin or Julien way to do it + show one map"
   ]
  },
  {
   "cell_type": "markdown",
   "metadata": {},
   "source": [
    "#### 1.E.b. Normalization and log scales  <a name=\"1Eb\"></a>\n",
    "\n",
    "TODO, explain why (heavy tail, right skewed, power laws) + do it"
   ]
  },
  {
   "cell_type": "markdown",
   "metadata": {},
   "source": [
    "For instance the distribution of GDP look a bit like a power law."
   ]
  },
  {
   "cell_type": "code",
   "execution_count": 38,
   "metadata": {},
   "outputs": [
    {
     "data": {
      "text/plain": [
       "<matplotlib.axes._subplots.AxesSubplot at 0x20ec98c9ac8>"
      ]
     },
     "execution_count": 38,
     "metadata": {},
     "output_type": "execute_result"
    },
    {
     "data": {
      "image/png": "[encoded data removed]",
      "text/plain": [
       "<Figure size 432x288 with 1 Axes>"
      ]
     },
     "metadata": {
      "needs_background": "light"
     },
     "output_type": "display_data"
    }
   ],
   "source": [
    "# NEED TO USE df_cleansed INSTEAD OF df_usefull\n",
    "sns.distplot(df_usefull[\"GDP\"][\"Value\"], rug=False, hist=False)"
   ]
  },
  {
   "cell_type": "code",
   "execution_count": 37,
   "metadata": {},
   "outputs": [
    {
     "data": {
      "text/plain": [
       "<matplotlib.axes._subplots.AxesSubplot at 0x20ec9655088>"
      ]
     },
     "execution_count": 37,
     "metadata": {},
     "output_type": "execute_result"
    },
    {
     "data": {
      "image/png": "[encoded data removed]",
      "text/plain": [
       "<Figure size 432x288 with 1 Axes>"
      ]
     },
     "metadata": {
      "needs_background": "light"
     },
     "output_type": "display_data"
    }
   ],
   "source": [
    "#looks better with log scale\n",
    "sns.distplot(np.log(df_usefull[\"GDP\"][\"Value\"]), rug=False, hist=False)"
   ]
  },
  {
   "cell_type": "markdown",
   "metadata": {},
   "source": [
    "### 1.F. Making one uniformized dataframe  <a name=\"1F\"></a>\n",
    "\n",
    "In this part, we will make one uniformized dataframe `uni_df` with the following columns.\n",
    "\n",
    "    Country | Year | GDP | Crops production | Livestock production | Crops importation | Livestock importation | Crops exportation | Livestock exportation\n",
    "    \n",
    "In this uniformized dataframe, a tuple `(Country, Year)` uniquely identifies a row.\n"
   ]
  },
  {
   "cell_type": "markdown",
   "metadata": {},
   "source": [
    "### 2. Data exploration and first observations  <a name=\"2\"></a>\n",
    "\n",
    "2. \n",
    "        \n",
    "    1. [Food productions, importations and exportations](#2A)\n",
    "            \n",
    "    2. [Prices of food](#2B)      \n",
    "                \n",
    "    3. [Structure of international trade](#2C)       \n",
    "        \n",
    "    4. [Economic classification of countries](#2D)  \n",
    "        \n",
    "In this part, we will explore the dataset with more details. We will first see in more detail the [food productions, importations and exportations](#2A), next examine the [Prices of food](#2B), then study the [structure of international trade](#2C) and finally look at the [economic classification of countries](#2D)."
   ]
  },
  {
   "cell_type": "markdown",
   "metadata": {},
   "source": [
    "#### 2.A. Food productions, importations and exportations <a name=\"2A\"></a>\n",
    "\n",
    "2. \n",
    "        \n",
    "    1. \n",
    "    \n",
    "        1. [Crops and livestock production and trade](#2Aa)  \n",
    "    \n",
    "            1. [Crops](#2Aai)\n",
    "            \n",
    "                1. [Production](#2Aai1)\n",
    "                \n",
    "                2. [Importation](#2Aai2)\n",
    "                \n",
    "                3. [Exportation](#2Aai3)\n",
    "    \n",
    "            2. [Livestock](#2Aaii)  \n",
    "            \n",
    "                1. [Production](#2Aaii1)\n",
    "                \n",
    "                2. [Importation](#2Aaii2)\n",
    "                \n",
    "                3. [Exportation](#2Aaii3)\n",
    "    \n",
    "            2. [Globally](#2Aaiii)             \n",
    "    \n",
    "        2. [Introducing the concept of food self-sufficiency](#2Ab)\n",
    "    \n",
    "            1. [Basic idea](#2Abi)\n",
    "    \n",
    "            2. [Formula and computation](#2Abii)\n",
    "            \n",
    "TODO"
   ]
  },
  {
   "cell_type": "markdown",
   "metadata": {},
   "source": [
    "#### 2.B. Prices of food  <a name=\"2B\"></a>\n",
    "\n",
    "2. \n",
    "        \n",
    "    2. \n",
    "    \n",
    "        1. [Prices](#2Ba) \n",
    "    \n",
    "        2. [Stability of prices](#2Bb)      \n",
    "        \n",
    "TODO"
   ]
  },
  {
   "cell_type": "markdown",
   "metadata": {},
   "source": [
    "#### 2.C. Structure of international trade  <a name=\"2C\"></a>\n",
    "\n",
    "2.  \n",
    "                \n",
    "    3. \n",
    "    \n",
    "        1. [One word about historical context](#2Ca) \n",
    "    \n",
    "        2. [Clusters, circularity and openness rates of international trade](#2Cb)   \n",
    "\n",
    "TODO"
   ]
  },
  {
   "cell_type": "markdown",
   "metadata": {},
   "source": [
    "#### 2.D. Economic classification of countries <a name=\"2D\"></a>\n",
    "TODO"
   ]
  },
  {
   "cell_type": "markdown",
   "metadata": {},
   "source": [
    "### 3. Descriptive data analysis  <a name=\"3\"></a>\n",
    "\n",
    "3. \n",
    "\n",
    "    1. [Production and consumption of food from a time-space geography point of view](#3A)\n",
    "        \n",
    "        1. [Net food exporters or importers](#3Aa)\n",
    "        \n",
    "        2. [Evolution over the last few decades](#3Ab)\n",
    "\n",
    "    1. [Food self-sufficiency](#3B)\n",
    "\n",
    "    2. [Giving countries an economic score based on their agricultural features](#3C)\n",
    "        \n",
    "        1. [Correlation between food trade feature and GDP](#3Ca)\n",
    "        \n",
    "        2. [Our own score](#3Cb)\n",
    "        \n",
    "        2. [Machine learning model](#3Cc)  \n",
    "\n",
    "    3. [Food prices stability and agricultural features](#3C)  \n",
    "    \n",
    "TODO"
   ]
  },
  {
   "cell_type": "markdown",
   "metadata": {},
   "source": [
    "### 4. Informed plan for next actions  <a name=\"4\"></a>\n",
    "\n",
    "TODO"
   ]
  }
 ],
 "metadata": {
  "kernelspec": {
   "display_name": "Python 3",
   "language": "python",
   "name": "python3"
  },
  "language_info": {
   "codemirror_mode": {
    "name": "ipython",
    "version": 3
   },
   "file_extension": ".py",
   "mimetype": "text/x-python",
   "name": "python",
   "nbconvert_exporter": "python",
   "pygments_lexer": "ipython3",
   "version": "3.7.4"
  }
 },
 "nbformat": 4,
 "nbformat_minor": 2
}
