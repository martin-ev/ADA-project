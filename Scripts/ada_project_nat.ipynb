{
 "cells": [
  {
   "cell_type": "code",
   "execution_count": 62,
   "metadata": {},
   "outputs": [],
   "source": [
    "import pandas as pd\n",
    "import os\n",
    "import numpy as np\n",
    "import re\n",
    "from matplotlib.ticker import MaxNLocator\n",
    "import matplotlib.pyplot as plt\n",
    "import seaborn as sns\n",
    "import chardet\n",
    "import ast"
   ]
  },
  {
   "cell_type": "code",
   "execution_count": 5,
   "metadata": {},
   "outputs": [],
   "source": [
    "# data_folder=\"./Data/current_FAO/raw_files/\"\n",
    "# for file in os.listdir(data_folder):\n",
    "#     file=data_folder+file\n",
    "#     print(\"\\n\"+file)\n",
    "#     try:\n",
    "#         print(pd.read_csv(file,nrows=2).head())\n",
    "#     except:\n",
    "#        pass \n"
   ]
  },
  {
   "cell_type": "code",
   "execution_count": 215,
   "metadata": {},
   "outputs": [
    {
     "data": {
      "text/html": [
       "<div>\n",
       "<style scoped>\n",
       "    .dataframe tbody tr th:only-of-type {\n",
       "        vertical-align: middle;\n",
       "    }\n",
       "\n",
       "    .dataframe tbody tr th {\n",
       "        vertical-align: top;\n",
       "    }\n",
       "\n",
       "    .dataframe thead th {\n",
       "        text-align: right;\n",
       "    }\n",
       "</style>\n",
       "<table border=\"1\" class=\"dataframe\">\n",
       "  <thead>\n",
       "    <tr style=\"text-align: right;\">\n",
       "      <th></th>\n",
       "      <th></th>\n",
       "      <th></th>\n",
       "      <th>Area</th>\n",
       "      <th>Item</th>\n",
       "      <th>Element Code</th>\n",
       "      <th>Element</th>\n",
       "      <th>Year</th>\n",
       "      <th>Unit</th>\n",
       "      <th>Value</th>\n",
       "    </tr>\n",
       "    <tr>\n",
       "      <th>Area Code</th>\n",
       "      <th>Item Code</th>\n",
       "      <th>Year Code</th>\n",
       "      <th></th>\n",
       "      <th></th>\n",
       "      <th></th>\n",
       "      <th></th>\n",
       "      <th></th>\n",
       "      <th></th>\n",
       "      <th></th>\n",
       "    </tr>\n",
       "  </thead>\n",
       "  <tbody>\n",
       "    <tr>\n",
       "      <td rowspan=\"5\" valign=\"top\">2</td>\n",
       "      <td rowspan=\"5\" valign=\"top\">866</td>\n",
       "      <td>1961</td>\n",
       "      <td>Afghanistan</td>\n",
       "      <td>Cattle</td>\n",
       "      <td>5608</td>\n",
       "      <td>Import Quantity</td>\n",
       "      <td>1961</td>\n",
       "      <td>Head</td>\n",
       "      <td>NaN</td>\n",
       "    </tr>\n",
       "    <tr>\n",
       "      <td>1962</td>\n",
       "      <td>Afghanistan</td>\n",
       "      <td>Cattle</td>\n",
       "      <td>5608</td>\n",
       "      <td>Import Quantity</td>\n",
       "      <td>1962</td>\n",
       "      <td>Head</td>\n",
       "      <td>NaN</td>\n",
       "    </tr>\n",
       "    <tr>\n",
       "      <td>1963</td>\n",
       "      <td>Afghanistan</td>\n",
       "      <td>Cattle</td>\n",
       "      <td>5608</td>\n",
       "      <td>Import Quantity</td>\n",
       "      <td>1963</td>\n",
       "      <td>Head</td>\n",
       "      <td>NaN</td>\n",
       "    </tr>\n",
       "    <tr>\n",
       "      <td>1964</td>\n",
       "      <td>Afghanistan</td>\n",
       "      <td>Cattle</td>\n",
       "      <td>5608</td>\n",
       "      <td>Import Quantity</td>\n",
       "      <td>1964</td>\n",
       "      <td>Head</td>\n",
       "      <td>NaN</td>\n",
       "    </tr>\n",
       "    <tr>\n",
       "      <td>1965</td>\n",
       "      <td>Afghanistan</td>\n",
       "      <td>Cattle</td>\n",
       "      <td>5608</td>\n",
       "      <td>Import Quantity</td>\n",
       "      <td>1965</td>\n",
       "      <td>Head</td>\n",
       "      <td>NaN</td>\n",
       "    </tr>\n",
       "  </tbody>\n",
       "</table>\n",
       "</div>"
      ],
      "text/plain": [
       "                                      Area    Item  Element Code  \\\n",
       "Area Code Item Code Year Code                                      \n",
       "2         866       1961       Afghanistan  Cattle          5608   \n",
       "                    1962       Afghanistan  Cattle          5608   \n",
       "                    1963       Afghanistan  Cattle          5608   \n",
       "                    1964       Afghanistan  Cattle          5608   \n",
       "                    1965       Afghanistan  Cattle          5608   \n",
       "\n",
       "                                       Element  Year  Unit  Value  \n",
       "Area Code Item Code Year Code                                      \n",
       "2         866       1961       Import Quantity  1961  Head    NaN  \n",
       "                    1962       Import Quantity  1962  Head    NaN  \n",
       "                    1963       Import Quantity  1963  Head    NaN  \n",
       "                    1964       Import Quantity  1964  Head    NaN  \n",
       "                    1965       Import Quantity  1965  Head    NaN  "
      ]
     },
     "execution_count": 215,
     "metadata": {},
     "output_type": "execute_result"
    }
   ],
   "source": [
    "trade_liveanimals_df = pd.read_csv('./Data/current_FAO/raw_files/Trade_LiveAnimals_E_All_Data_(Normalized).csv', encoding='utf-8', sep=',')\n",
    "\n",
    "\n",
    "trade_liveanimals_df = (trade_liveanimals_df\n",
    "                        .set_index(['Area Code', 'Item Code', 'Year Code'])\n",
    "                        .drop(columns = ['Flag']))\n",
    "                        \n",
    "trade_liveanimals_df['Unit'] = trade_liveanimals_df['Unit'].apply(lambda x: x.replace('\"', ''))\n",
    "trade_liveanimals_df.head()"
   ]
  },
  {
   "cell_type": "code",
   "execution_count": 216,
   "metadata": {},
   "outputs": [
    {
     "data": {
      "text/plain": [
       "array(['Import Quantity', 'Import Value', 'Export Quantity',\n",
       "       'Export Value'], dtype=object)"
      ]
     },
     "execution_count": 216,
     "metadata": {},
     "output_type": "execute_result"
    }
   ],
   "source": [
    "trade_liveanimals_df.Element.unique()"
   ]
  },
  {
   "cell_type": "markdown",
   "metadata": {},
   "source": [
    "## Import Quantities"
   ]
  },
  {
   "cell_type": "code",
   "execution_count": 227,
   "metadata": {},
   "outputs": [
    {
     "name": "stderr",
     "output_type": "stream",
     "text": [
      "C:\\Users\\nanil\\Anaconda3\\lib\\site-packages\\ipykernel_launcher.py:2: SettingWithCopyWarning: \n",
      "A value is trying to be set on a copy of a slice from a DataFrame\n",
      "\n",
      "See the caveats in the documentation: http://pandas.pydata.org/pandas-docs/stable/user_guide/indexing.html#returning-a-view-versus-a-copy\n",
      "  \n"
     ]
    },
    {
     "data": {
      "text/plain": [
       "Area               110820\n",
       "Item               110820\n",
       "Element Code       110820\n",
       "Element            110820\n",
       "Year               110820\n",
       "Unit               110820\n",
       "Import Quantity    110820\n",
       "dtype: int64"
      ]
     },
     "execution_count": 227,
     "metadata": {},
     "output_type": "execute_result"
    }
   ],
   "source": [
    "trade_liveanimals_importquant_df = trade_liveanimals_df.loc[trade_liveanimals_df.Element == 'Import Quantity']\n",
    "trade_liveanimals_importquant_df.dropna(subset = ['Value'], inplace = True)\n",
    "trade_liveanimals_importquant_df.rename(columns = {'Value': 'Import Quantity'}, inplace = True)\n",
    "trade_liveanimals_importquant_df.head()\n",
    "trade_liveanimals_importquant_df.Unit.unique()\n",
    "trade_liveanimals_importquant_df.count()"
   ]
  },
  {
   "cell_type": "markdown",
   "metadata": {},
   "source": [
    "### Sorting Different Units"
   ]
  },
  {
   "cell_type": "code",
   "execution_count": 226,
   "metadata": {},
   "outputs": [
    {
     "name": "stderr",
     "output_type": "stream",
     "text": [
      "C:\\Users\\nanil\\Anaconda3\\lib\\site-packages\\ipykernel_launcher.py:2: SettingWithCopyWarning: \n",
      "A value is trying to be set on a copy of a slice from a DataFrame.\n",
      "Try using .loc[row_indexer,col_indexer] = value instead\n",
      "\n",
      "See the caveats in the documentation: http://pandas.pydata.org/pandas-docs/stable/user_guide/indexing.html#returning-a-view-versus-a-copy\n",
      "  \n",
      "C:\\Users\\nanil\\Anaconda3\\lib\\site-packages\\ipykernel_launcher.py:3: SettingWithCopyWarning: \n",
      "A value is trying to be set on a copy of a slice from a DataFrame.\n",
      "Try using .loc[row_indexer,col_indexer] = value instead\n",
      "\n",
      "See the caveats in the documentation: http://pandas.pydata.org/pandas-docs/stable/user_guide/indexing.html#returning-a-view-versus-a-copy\n",
      "  This is separate from the ipykernel package so we can avoid doing imports until\n"
     ]
    },
    {
     "data": {
      "text/plain": [
       "Area               211436\n",
       "Item               211436\n",
       "Element Code       211436\n",
       "Element            211436\n",
       "Year               211436\n",
       "Unit               211436\n",
       "Import Quantity    211436\n",
       "dtype: int64"
      ]
     },
     "execution_count": 226,
     "metadata": {},
     "output_type": "execute_result"
    }
   ],
   "source": [
    "trade_1000Head_df = trade_liveanimals_importquant_df.loc[trade_liveanimals_importquant_df.Unit == '1000 Head']\n",
    "trade_1000Head_df['Import Quantity'] = trade_1000Head_df['Import Quantity']*1000\n",
    "trade_1000Head_df['Unit'] = 'Head'\n",
    "trade_1000Head_df.sample()\n",
    "\n",
    "trade_liveanimals_importquant_df = pd.concat([trade_liveanimals_importquant_df, \n",
    "                                              trade_1000Head_df],\n",
    "                                              sort=False)\n",
    "\n",
    "trade_liveanimals_importquant_df.count()\n"
   ]
  },
  {
   "cell_type": "markdown",
   "metadata": {},
   "source": [
    "## Import Values\n"
   ]
  },
  {
   "cell_type": "code",
   "execution_count": 221,
   "metadata": {},
   "outputs": [
    {
     "name": "stderr",
     "output_type": "stream",
     "text": [
      "C:\\Users\\nanil\\Anaconda3\\lib\\site-packages\\ipykernel_launcher.py:2: SettingWithCopyWarning: \n",
      "A value is trying to be set on a copy of a slice from a DataFrame\n",
      "\n",
      "See the caveats in the documentation: http://pandas.pydata.org/pandas-docs/stable/user_guide/indexing.html#returning-a-view-versus-a-copy\n",
      "  \n"
     ]
    },
    {
     "data": {
      "text/plain": [
       "array(['1000 US$'], dtype=object)"
      ]
     },
     "execution_count": 221,
     "metadata": {},
     "output_type": "execute_result"
    }
   ],
   "source": [
    "trade_liveanimals_importvalue_df = trade_liveanimals_df.loc[trade_liveanimals_df.Element == 'Import Value']\n",
    "trade_liveanimals_importvalue_df.dropna(subset = ['Value'], inplace = True)\n",
    "trade_liveanimals_importvalue_df.rename(columns = {'Value': 'Import Value'}, inplace = True)\n",
    "trade_liveanimals_importvalue_df.head()\n",
    "trade_liveanimals_importvalue_df.Unit.unique()"
   ]
  },
  {
   "cell_type": "code",
   "execution_count": 150,
   "metadata": {},
   "outputs": [],
   "source": [
    "# f, ax = plt.subplots(figsize=(10, 8))\n",
    "# sns.lineplot(x=trade_liveanimals_importquant_df['Year Code'], y=trade_liveanimals_importquant_df['Import Quantity'])\n"
   ]
  },
  {
   "cell_type": "markdown",
   "metadata": {},
   "source": [
    "## Export Quantity"
   ]
  },
  {
   "cell_type": "code",
   "execution_count": 180,
   "metadata": {},
   "outputs": [
    {
     "name": "stderr",
     "output_type": "stream",
     "text": [
      "C:\\Users\\nanil\\Anaconda3\\lib\\site-packages\\ipykernel_launcher.py:2: SettingWithCopyWarning: \n",
      "A value is trying to be set on a copy of a slice from a DataFrame\n",
      "\n",
      "See the caveats in the documentation: http://pandas.pydata.org/pandas-docs/stable/user_guide/indexing.html#returning-a-view-versus-a-copy\n",
      "  \n"
     ]
    },
    {
     "data": {
      "text/html": [
       "<div>\n",
       "<style scoped>\n",
       "    .dataframe tbody tr th:only-of-type {\n",
       "        vertical-align: middle;\n",
       "    }\n",
       "\n",
       "    .dataframe tbody tr th {\n",
       "        vertical-align: top;\n",
       "    }\n",
       "\n",
       "    .dataframe thead th {\n",
       "        text-align: right;\n",
       "    }\n",
       "</style>\n",
       "<table border=\"1\" class=\"dataframe\">\n",
       "  <thead>\n",
       "    <tr style=\"text-align: right;\">\n",
       "      <th></th>\n",
       "      <th></th>\n",
       "      <th></th>\n",
       "      <th>Area</th>\n",
       "      <th>Item</th>\n",
       "      <th>Element Code</th>\n",
       "      <th>Element</th>\n",
       "      <th>Year</th>\n",
       "      <th>Unit</th>\n",
       "      <th>Export Quantity</th>\n",
       "    </tr>\n",
       "    <tr>\n",
       "      <th>Area Code</th>\n",
       "      <th>Item Code</th>\n",
       "      <th>Year Code</th>\n",
       "      <th></th>\n",
       "      <th></th>\n",
       "      <th></th>\n",
       "      <th></th>\n",
       "      <th></th>\n",
       "      <th></th>\n",
       "      <th></th>\n",
       "    </tr>\n",
       "  </thead>\n",
       "  <tbody>\n",
       "    <tr>\n",
       "      <td rowspan=\"5\" valign=\"top\">2</td>\n",
       "      <td rowspan=\"5\" valign=\"top\">1057</td>\n",
       "      <td>1961</td>\n",
       "      <td>Afghanistan</td>\n",
       "      <td>Chickens</td>\n",
       "      <td>5909</td>\n",
       "      <td>Export Quantity</td>\n",
       "      <td>1961</td>\n",
       "      <td>1000 Head</td>\n",
       "      <td>0.0</td>\n",
       "    </tr>\n",
       "    <tr>\n",
       "      <td>1962</td>\n",
       "      <td>Afghanistan</td>\n",
       "      <td>Chickens</td>\n",
       "      <td>5909</td>\n",
       "      <td>Export Quantity</td>\n",
       "      <td>1962</td>\n",
       "      <td>1000 Head</td>\n",
       "      <td>0.0</td>\n",
       "    </tr>\n",
       "    <tr>\n",
       "      <td>1963</td>\n",
       "      <td>Afghanistan</td>\n",
       "      <td>Chickens</td>\n",
       "      <td>5909</td>\n",
       "      <td>Export Quantity</td>\n",
       "      <td>1963</td>\n",
       "      <td>1000 Head</td>\n",
       "      <td>0.0</td>\n",
       "    </tr>\n",
       "    <tr>\n",
       "      <td>1964</td>\n",
       "      <td>Afghanistan</td>\n",
       "      <td>Chickens</td>\n",
       "      <td>5909</td>\n",
       "      <td>Export Quantity</td>\n",
       "      <td>1964</td>\n",
       "      <td>1000 Head</td>\n",
       "      <td>0.0</td>\n",
       "    </tr>\n",
       "    <tr>\n",
       "      <td>1965</td>\n",
       "      <td>Afghanistan</td>\n",
       "      <td>Chickens</td>\n",
       "      <td>5909</td>\n",
       "      <td>Export Quantity</td>\n",
       "      <td>1965</td>\n",
       "      <td>1000 Head</td>\n",
       "      <td>0.0</td>\n",
       "    </tr>\n",
       "  </tbody>\n",
       "</table>\n",
       "</div>"
      ],
      "text/plain": [
       "                                      Area      Item  Element Code  \\\n",
       "Area Code Item Code Year Code                                        \n",
       "2         1057      1961       Afghanistan  Chickens          5909   \n",
       "                    1962       Afghanistan  Chickens          5909   \n",
       "                    1963       Afghanistan  Chickens          5909   \n",
       "                    1964       Afghanistan  Chickens          5909   \n",
       "                    1965       Afghanistan  Chickens          5909   \n",
       "\n",
       "                                       Element  Year       Unit  \\\n",
       "Area Code Item Code Year Code                                     \n",
       "2         1057      1961       Export Quantity  1961  1000 Head   \n",
       "                    1962       Export Quantity  1962  1000 Head   \n",
       "                    1963       Export Quantity  1963  1000 Head   \n",
       "                    1964       Export Quantity  1964  1000 Head   \n",
       "                    1965       Export Quantity  1965  1000 Head   \n",
       "\n",
       "                               Export Quantity  \n",
       "Area Code Item Code Year Code                   \n",
       "2         1057      1961                   0.0  \n",
       "                    1962                   0.0  \n",
       "                    1963                   0.0  \n",
       "                    1964                   0.0  \n",
       "                    1965                   0.0  "
      ]
     },
     "execution_count": 180,
     "metadata": {},
     "output_type": "execute_result"
    }
   ],
   "source": [
    "trade_liveanimals_exportquant_df = trade_liveanimals_df.loc[trade_liveanimals_df.Element == 'Export Quantity']\n",
    "trade_liveanimals_exportquant_df.dropna(subset = ['Value'], inplace = True)\n",
    "trade_liveanimals_exportquant_df.rename(columns = {'Value': 'Export Quantity'}, inplace = True)\n",
    "trade_liveanimals_exportquant_df.head()"
   ]
  },
  {
   "cell_type": "markdown",
   "metadata": {},
   "source": [
    "## Export Value"
   ]
  },
  {
   "cell_type": "code",
   "execution_count": 181,
   "metadata": {},
   "outputs": [
    {
     "name": "stderr",
     "output_type": "stream",
     "text": [
      "C:\\Users\\nanil\\Anaconda3\\lib\\site-packages\\ipykernel_launcher.py:2: SettingWithCopyWarning: \n",
      "A value is trying to be set on a copy of a slice from a DataFrame\n",
      "\n",
      "See the caveats in the documentation: http://pandas.pydata.org/pandas-docs/stable/user_guide/indexing.html#returning-a-view-versus-a-copy\n",
      "  \n"
     ]
    },
    {
     "data": {
      "text/html": [
       "<div>\n",
       "<style scoped>\n",
       "    .dataframe tbody tr th:only-of-type {\n",
       "        vertical-align: middle;\n",
       "    }\n",
       "\n",
       "    .dataframe tbody tr th {\n",
       "        vertical-align: top;\n",
       "    }\n",
       "\n",
       "    .dataframe thead th {\n",
       "        text-align: right;\n",
       "    }\n",
       "</style>\n",
       "<table border=\"1\" class=\"dataframe\">\n",
       "  <thead>\n",
       "    <tr style=\"text-align: right;\">\n",
       "      <th></th>\n",
       "      <th></th>\n",
       "      <th></th>\n",
       "      <th>Area</th>\n",
       "      <th>Item</th>\n",
       "      <th>Element Code</th>\n",
       "      <th>Element</th>\n",
       "      <th>Year</th>\n",
       "      <th>Unit</th>\n",
       "      <th>Export Value</th>\n",
       "    </tr>\n",
       "    <tr>\n",
       "      <th>Area Code</th>\n",
       "      <th>Item Code</th>\n",
       "      <th>Year Code</th>\n",
       "      <th></th>\n",
       "      <th></th>\n",
       "      <th></th>\n",
       "      <th></th>\n",
       "      <th></th>\n",
       "      <th></th>\n",
       "      <th></th>\n",
       "    </tr>\n",
       "  </thead>\n",
       "  <tbody>\n",
       "    <tr>\n",
       "      <td rowspan=\"5\" valign=\"top\">2</td>\n",
       "      <td rowspan=\"5\" valign=\"top\">1057</td>\n",
       "      <td>1961</td>\n",
       "      <td>Afghanistan</td>\n",
       "      <td>Chickens</td>\n",
       "      <td>5922</td>\n",
       "      <td>Export Value</td>\n",
       "      <td>1961</td>\n",
       "      <td>1000 US$</td>\n",
       "      <td>0.0</td>\n",
       "    </tr>\n",
       "    <tr>\n",
       "      <td>1962</td>\n",
       "      <td>Afghanistan</td>\n",
       "      <td>Chickens</td>\n",
       "      <td>5922</td>\n",
       "      <td>Export Value</td>\n",
       "      <td>1962</td>\n",
       "      <td>1000 US$</td>\n",
       "      <td>0.0</td>\n",
       "    </tr>\n",
       "    <tr>\n",
       "      <td>1963</td>\n",
       "      <td>Afghanistan</td>\n",
       "      <td>Chickens</td>\n",
       "      <td>5922</td>\n",
       "      <td>Export Value</td>\n",
       "      <td>1963</td>\n",
       "      <td>1000 US$</td>\n",
       "      <td>0.0</td>\n",
       "    </tr>\n",
       "    <tr>\n",
       "      <td>1964</td>\n",
       "      <td>Afghanistan</td>\n",
       "      <td>Chickens</td>\n",
       "      <td>5922</td>\n",
       "      <td>Export Value</td>\n",
       "      <td>1964</td>\n",
       "      <td>1000 US$</td>\n",
       "      <td>0.0</td>\n",
       "    </tr>\n",
       "    <tr>\n",
       "      <td>1965</td>\n",
       "      <td>Afghanistan</td>\n",
       "      <td>Chickens</td>\n",
       "      <td>5922</td>\n",
       "      <td>Export Value</td>\n",
       "      <td>1965</td>\n",
       "      <td>1000 US$</td>\n",
       "      <td>0.0</td>\n",
       "    </tr>\n",
       "  </tbody>\n",
       "</table>\n",
       "</div>"
      ],
      "text/plain": [
       "                                      Area      Item  Element Code  \\\n",
       "Area Code Item Code Year Code                                        \n",
       "2         1057      1961       Afghanistan  Chickens          5922   \n",
       "                    1962       Afghanistan  Chickens          5922   \n",
       "                    1963       Afghanistan  Chickens          5922   \n",
       "                    1964       Afghanistan  Chickens          5922   \n",
       "                    1965       Afghanistan  Chickens          5922   \n",
       "\n",
       "                                    Element  Year      Unit  Export Value  \n",
       "Area Code Item Code Year Code                                              \n",
       "2         1057      1961       Export Value  1961  1000 US$           0.0  \n",
       "                    1962       Export Value  1962  1000 US$           0.0  \n",
       "                    1963       Export Value  1963  1000 US$           0.0  \n",
       "                    1964       Export Value  1964  1000 US$           0.0  \n",
       "                    1965       Export Value  1965  1000 US$           0.0  "
      ]
     },
     "execution_count": 181,
     "metadata": {},
     "output_type": "execute_result"
    }
   ],
   "source": [
    "trade_liveanimals_exportvalue_df = trade_liveanimals_df.loc[trade_liveanimals_df.Element == 'Export Value']\n",
    "trade_liveanimals_exportvalue_df.dropna(subset = ['Value'], inplace = True)\n",
    "trade_liveanimals_exportvalue_df.rename(columns = {'Value': 'Export Value'}, inplace = True)\n",
    "trade_liveanimals_exportvalue_df.head()"
   ]
  },
  {
   "cell_type": "markdown",
   "metadata": {},
   "source": [
    "## Joined Dataframe"
   ]
  },
  {
   "cell_type": "code",
   "execution_count": 182,
   "metadata": {},
   "outputs": [
    {
     "data": {
      "text/html": [
       "<div>\n",
       "<style scoped>\n",
       "    .dataframe tbody tr th:only-of-type {\n",
       "        vertical-align: middle;\n",
       "    }\n",
       "\n",
       "    .dataframe tbody tr th {\n",
       "        vertical-align: top;\n",
       "    }\n",
       "\n",
       "    .dataframe thead th {\n",
       "        text-align: right;\n",
       "    }\n",
       "</style>\n",
       "<table border=\"1\" class=\"dataframe\">\n",
       "  <thead>\n",
       "    <tr style=\"text-align: right;\">\n",
       "      <th></th>\n",
       "      <th></th>\n",
       "      <th></th>\n",
       "      <th>Area</th>\n",
       "      <th>Item</th>\n",
       "      <th>Element Code</th>\n",
       "      <th>Element</th>\n",
       "      <th>Year</th>\n",
       "      <th>Unit</th>\n",
       "      <th>Export Value</th>\n",
       "      <th>Export Quantity</th>\n",
       "      <th>Import Value</th>\n",
       "      <th>Import Quantity</th>\n",
       "    </tr>\n",
       "    <tr>\n",
       "      <th>Area Code</th>\n",
       "      <th>Item Code</th>\n",
       "      <th>Year Code</th>\n",
       "      <th></th>\n",
       "      <th></th>\n",
       "      <th></th>\n",
       "      <th></th>\n",
       "      <th></th>\n",
       "      <th></th>\n",
       "      <th></th>\n",
       "      <th></th>\n",
       "      <th></th>\n",
       "      <th></th>\n",
       "    </tr>\n",
       "  </thead>\n",
       "  <tbody>\n",
       "    <tr>\n",
       "      <td rowspan=\"5\" valign=\"top\">2</td>\n",
       "      <td rowspan=\"5\" valign=\"top\">1057</td>\n",
       "      <td>1961</td>\n",
       "      <td>Afghanistan</td>\n",
       "      <td>Chickens</td>\n",
       "      <td>5922</td>\n",
       "      <td>Export Value</td>\n",
       "      <td>1961</td>\n",
       "      <td>1000 US$</td>\n",
       "      <td>0.0</td>\n",
       "      <td>NaN</td>\n",
       "      <td>NaN</td>\n",
       "      <td>NaN</td>\n",
       "    </tr>\n",
       "    <tr>\n",
       "      <td>1962</td>\n",
       "      <td>Afghanistan</td>\n",
       "      <td>Chickens</td>\n",
       "      <td>5922</td>\n",
       "      <td>Export Value</td>\n",
       "      <td>1962</td>\n",
       "      <td>1000 US$</td>\n",
       "      <td>0.0</td>\n",
       "      <td>NaN</td>\n",
       "      <td>NaN</td>\n",
       "      <td>NaN</td>\n",
       "    </tr>\n",
       "    <tr>\n",
       "      <td>1963</td>\n",
       "      <td>Afghanistan</td>\n",
       "      <td>Chickens</td>\n",
       "      <td>5922</td>\n",
       "      <td>Export Value</td>\n",
       "      <td>1963</td>\n",
       "      <td>1000 US$</td>\n",
       "      <td>0.0</td>\n",
       "      <td>NaN</td>\n",
       "      <td>NaN</td>\n",
       "      <td>NaN</td>\n",
       "    </tr>\n",
       "    <tr>\n",
       "      <td>1964</td>\n",
       "      <td>Afghanistan</td>\n",
       "      <td>Chickens</td>\n",
       "      <td>5922</td>\n",
       "      <td>Export Value</td>\n",
       "      <td>1964</td>\n",
       "      <td>1000 US$</td>\n",
       "      <td>0.0</td>\n",
       "      <td>NaN</td>\n",
       "      <td>NaN</td>\n",
       "      <td>NaN</td>\n",
       "    </tr>\n",
       "    <tr>\n",
       "      <td>1965</td>\n",
       "      <td>Afghanistan</td>\n",
       "      <td>Chickens</td>\n",
       "      <td>5922</td>\n",
       "      <td>Export Value</td>\n",
       "      <td>1965</td>\n",
       "      <td>1000 US$</td>\n",
       "      <td>0.0</td>\n",
       "      <td>NaN</td>\n",
       "      <td>NaN</td>\n",
       "      <td>NaN</td>\n",
       "    </tr>\n",
       "  </tbody>\n",
       "</table>\n",
       "</div>"
      ],
      "text/plain": [
       "                                      Area      Item  Element Code  \\\n",
       "Area Code Item Code Year Code                                        \n",
       "2         1057      1961       Afghanistan  Chickens          5922   \n",
       "                    1962       Afghanistan  Chickens          5922   \n",
       "                    1963       Afghanistan  Chickens          5922   \n",
       "                    1964       Afghanistan  Chickens          5922   \n",
       "                    1965       Afghanistan  Chickens          5922   \n",
       "\n",
       "                                    Element  Year      Unit  Export Value  \\\n",
       "Area Code Item Code Year Code                                               \n",
       "2         1057      1961       Export Value  1961  1000 US$           0.0   \n",
       "                    1962       Export Value  1962  1000 US$           0.0   \n",
       "                    1963       Export Value  1963  1000 US$           0.0   \n",
       "                    1964       Export Value  1964  1000 US$           0.0   \n",
       "                    1965       Export Value  1965  1000 US$           0.0   \n",
       "\n",
       "                               Export Quantity  Import Value  Import Quantity  \n",
       "Area Code Item Code Year Code                                                  \n",
       "2         1057      1961                   NaN           NaN              NaN  \n",
       "                    1962                   NaN           NaN              NaN  \n",
       "                    1963                   NaN           NaN              NaN  \n",
       "                    1964                   NaN           NaN              NaN  \n",
       "                    1965                   NaN           NaN              NaN  "
      ]
     },
     "execution_count": 182,
     "metadata": {},
     "output_type": "execute_result"
    }
   ],
   "source": [
    "trade_liveanimals_joined_df = pd.concat([trade_liveanimals_exportvalue_df, \n",
    "                                        trade_liveanimals_exportquant_df, \n",
    "                                        trade_liveanimals_importvalue_df,\n",
    "                                        trade_liveanimals_importquant_df], sort=False)\n",
    "trade_liveanimals_joined_df.head()\n"
   ]
  },
  {
   "cell_type": "code",
   "execution_count": 187,
   "metadata": {},
   "outputs": [
    {
     "data": {
      "text/plain": [
       "<matplotlib.legend.Legend at 0x2b2d13cf6d8>"
      ]
     },
     "execution_count": 187,
     "metadata": {},
     "output_type": "execute_result"
    },
    {
     "data": {
      "image/png": "[encoded data removed]",
      "text/plain": [
       "<Figure size 720x576 with 1 Axes>"
      ]
     },
     "metadata": {
      "needs_background": "light"
     },
     "output_type": "display_data"
    }
   ],
   "source": [
    "\n",
    "f, ax = plt.subplots(figsize=(10, 8))\n",
    "sns.lineplot(x=trade_liveanimals_joined_df['Year'], y=trade_liveanimals_joined_df['Import Quantity'], label='Import Quant')\n",
    "sns.lineplot(x=trade_liveanimals_joined_df['Year'], y=trade_liveanimals_joined_df['Export Quantity'], label='Export Quant')\n",
    "ax.set(title='Import and Export Quantities')\n",
    "ax.legend( loc=\"upper right\", frameon=True, fontsize='large')"
   ]
  }
 ],
 "metadata": {
  "kernelspec": {
   "display_name": "Python 3",
   "language": "python",
   "name": "python3"
  },
  "language_info": {
   "codemirror_mode": {
    "name": "ipython",
    "version": 3
   },
   "file_extension": ".py",
   "mimetype": "text/x-python",
   "name": "python",
   "nbconvert_exporter": "python",
   "pygments_lexer": "ipython3",
   "version": "3.7.3"
  }
 },
 "nbformat": 4,
 "nbformat_minor": 4
}
